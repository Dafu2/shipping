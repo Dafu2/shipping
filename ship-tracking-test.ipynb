{
 "cells": [
  {
   "cell_type": "code",
   "execution_count": 289,
   "metadata": {},
   "outputs": [],
   "source": [
    "import os\n",
    "import csv, json\n",
    "import numpy as np\n",
    "import matplotlib.pyplot as plt\n",
    "import matplotlib.image as mpimg\n",
    "import pandas as pd\n",
    "%matplotlib inline"
   ]
  },
  {
   "cell_type": "code",
   "execution_count": 290,
   "metadata": {},
   "outputs": [
    {
     "name": "stdout",
     "output_type": "stream",
     "text": [
      "Starting program.\n"
     ]
    }
   ],
   "source": [
    "print(\"Starting program.\")"
   ]
  },
  {
   "cell_type": "code",
   "execution_count": 291,
   "metadata": {},
   "outputs": [
    {
     "name": "stdout",
     "output_type": "stream",
     "text": [
      "data/MARINE/MarineTraffic_itineraries_all_2018-08-13.csv\n"
     ]
    }
   ],
   "source": [
    "#Read in data\n",
    "SHIP_DATA_PATH = \"data/MARINE\"\n",
    "\n",
    "def read_csv_data(csv_path):\n",
    "    lat = []\n",
    "    long = []\n",
    "    with open(csv_path) as f:\n",
    "        reader = csv.reader(f)\n",
    "        for row in reader:\n",
    "            lat.append(row[7])\n",
    "            long.append(row[8])\n",
    "    return lat, long\n",
    "\n",
    "def load_ship_data(ship_data_path=SHIP_DATA_PATH):\n",
    "    csv_path = os.path.join(ship_data_path, \"MarineTraffic_itineraries_all_2018-08-13.csv\")\n",
    "    print(csv_path)\n",
    "    return pd.read_csv(csv_path)\n",
    "\n",
    "ship = load_ship_data(SHIP_DATA_PATH)\n",
    "# print(ship)\n",
    "# ship.head()\n",
    "# ship\n",
    "\n",
    "coords = pd.concat([ship['Latitude'], ship['Longitude']], axis=1)\n",
    "# coords = coords.sample(frac=0.1, replace=True)\n",
    "# print(coords)\n",
    "\n",
    "\n",
    "# print (coords['Longitude'])\n"
   ]
  },
  {
   "cell_type": "code",
   "execution_count": 292,
   "metadata": {},
   "outputs": [
    {
     "data": {
      "text/html": [
       "<iframe id=\"igraph\" scrolling=\"no\" style=\"border:none;\" seamless=\"seamless\" src=\"https://plot.ly/~Dafu2/6.embed\" height=\"525px\" width=\"100%\"></iframe>"
      ],
      "text/plain": [
       "<plotly.tools.PlotlyDisplay object>"
      ]
     },
     "execution_count": 292,
     "metadata": {},
     "output_type": "execute_result"
    }
   ],
   "source": [
    "import plotly.plotly as py\n",
    "import plotly.graph_objs as go\n",
    "\n",
    "mapbox_access_token = 'pk.eyJ1IjoiZGFmdTIiLCJhIjoiY2prc3NjZ2tsMDN6ODNxbWJ4ZGNrdXN5ayJ9.Emqga8ryY3K-0LwtyvaczA'\n",
    "\n",
    "df = pd.read_csv('data/MARINE/MarineTraffic_itineraries_all_2018-08-13.csv')\n",
    "site_lat = df.Latitude\n",
    "site_lon = df.Longitude\n",
    "# locations_name = df.text\n",
    "\n",
    "\n",
    "data = [\n",
    "    go.Scattermapbox(\n",
    "        lat=site_lat,\n",
    "        lon=site_lon,\n",
    "        mode='markers',\n",
    "        marker=dict(\n",
    "            size=17,\n",
    "            color='rgb(255, 0, 0)',\n",
    "            opacity=0.7\n",
    "        ),\n",
    "        text='ship',\n",
    "        hoverinfo='text'\n",
    "    ),\n",
    "    go.Scattermapbox(\n",
    "        lat=site_lat,\n",
    "        lon=site_lon,\n",
    "        mode='markers',\n",
    "        marker=dict(\n",
    "            size=8,\n",
    "            color='rgb(242, 177, 172)',\n",
    "            opacity=0.7\n",
    "        ),\n",
    "        hoverinfo='none'\n",
    "    )]\n",
    "\n",
    "\n",
    "layout = go.Layout(\n",
    "    title='Ships',\n",
    "    autosize=True,\n",
    "    hovermode='closest',\n",
    "    showlegend=False,\n",
    "    mapbox=dict(\n",
    "        accesstoken=mapbox_access_token,\n",
    "        bearing=0,\n",
    "        center=dict(\n",
    "            lat=38,\n",
    "            lon=-94\n",
    "        ),\n",
    "        pitch=0,\n",
    "        zoom=3,\n",
    "        style='light'\n",
    "    ),\n",
    ")\n",
    "\n",
    "fig = dict(data=data, layout=layout)\n",
    "\n",
    "py.iplot(fig, filename='Shipping route')\n",
    "\n"
   ]
  }
 ],
 "metadata": {
  "kernelspec": {
   "display_name": "Python 3",
   "language": "python",
   "name": "python3"
  },
  "language_info": {
   "codemirror_mode": {
    "name": "ipython",
    "version": 3
   },
   "file_extension": ".py",
   "mimetype": "text/x-python",
   "name": "python",
   "nbconvert_exporter": "python",
   "pygments_lexer": "ipython3",
   "version": "3.5.4"
  }
 },
 "nbformat": 4,
 "nbformat_minor": 2
}
